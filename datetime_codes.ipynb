{
 "cells": [
  {
   "cell_type": "code",
   "execution_count": null,
   "metadata": {},
   "outputs": [],
   "source": [
    "# examples are based on datetime.datetime(2013, 9, 30, 7, 6, 5)\n",
    "# http://strftime.org/\n"
   ]
  },
  {
   "cell_type": "code",
   "execution_count": null,
   "metadata": {},
   "outputs": [],
   "source": [
    "\n",
    "%a\tWeekday as locale’s abbreviated name.\tMon\n",
    "\n",
    "%A\tWeekday as locale’s full name.\tMonday\n",
    "\n",
    "%w\tWeekday as a decimal number, where 0 is Sunday and 6 is Saturday.\t1\n",
    "\n",
    "%d\tDay of the month as a zero-padded decimal number.\t30\n",
    "\n",
    "%-d\tDay of the month as a decimal number. (Platform specific)\t30\n",
    "\n",
    "%b\tMonth as locale’s abbreviated name.\tSep\n",
    "\n",
    "%B\tMonth as locale’s full name.\tSeptember\n",
    "\n",
    "%m\tMonth as a zero-padded decimal number.\t09\n",
    "\n",
    "%-m\tMonth as a decimal number. (Platform specific)\t9\n",
    "\n",
    "%y\tYear without century as a zero-padded decimal number.\t13\n",
    "\n",
    "%Y\tYear with century as a decimal number.\t2013\n",
    "\n",
    "%H\tHour (24-hour clock) as a zero-padded decimal number.\t07\n",
    "\n",
    "%-H\tHour (24-hour clock) as a decimal number. (Platform specific)\t7\n",
    "\n",
    "%I\tHour (12-hour clock) as a zero-padded decimal number.\t07\n",
    "\n",
    "%-I\tHour (12-hour clock) as a decimal number. (Platform specific)\t7\n",
    "\n",
    "%p\tLocale’s equivalent of either AM or PM.\tAM\n",
    "\n",
    "%M\tMinute as a zero-padded decimal number.\t06\n",
    "\n",
    "%-M\tMinute as a decimal number. (Platform specific)\t6\n",
    "\n",
    "%S\tSecond as a zero-padded decimal number.\t05\n",
    "\n",
    "%-S\tSecond as a decimal number. (Platform specific)\t5\n",
    "\n",
    "%f\tMicrosecond as a decimal number, zero-padded on the left.\t000000\n",
    "\n",
    "%z\tUTC offset in the form +HHMM or -HHMM (empty string if the the object is naive).\n",
    "\n",
    "%Z\tTime zone name (empty string if the object is naive).\n",
    "\n",
    "%j\tDay of the year as a zero-padded decimal number.\t273\n",
    "\n",
    "%-j\tDay of the year as a decimal number. (Platform specific)\t273\n",
    "\n",
    "%U\tWeek number of the year (Sunday as the first day of the week) as\n",
    "a zero padded decimal number. All days in a new year preceding the first Sunday are considered to be in week 0.\t39\n",
    "\n",
    "%W\tWeek number of the year (Monday as the first day of the week) as a decimal number.\n",
    "All days in a new year preceding the first Monday are considered to be in week 0.\t39\n",
    "\n",
    "%c\tLocale’s appropriate date and time representation.\tMon Sep 30 07:06:05 2013\n",
    "%x\tLocale’s appropriate date representation.\t09/30/13\n",
    "%X\tLocale’s appropriate time representation.\t07:06:05\n",
    "%%\tA literal '%' character.\t%"
   ]
  }
 ],
 "metadata": {
  "kernelspec": {
   "display_name": "Python 3",
   "language": "python",
   "name": "python3"
  },
  "language_info": {
   "codemirror_mode": {
    "name": "ipython",
    "version": 3
   },
   "file_extension": ".py",
   "mimetype": "text/x-python",
   "name": "python",
   "nbconvert_exporter": "python",
   "pygments_lexer": "ipython3",
   "version": "3.6.2"
  }
 },
 "nbformat": 4,
 "nbformat_minor": 2
}
